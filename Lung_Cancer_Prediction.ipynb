{
  "nbformat": 4,
  "nbformat_minor": 0,
  "metadata": {
    "colab": {
      "name": "Lung_Cancer_Prediction.ipynb",
      "version": "0.3.2",
      "provenance": [],
      "include_colab_link": true
    },
    "kernelspec": {
      "name": "python3",
      "display_name": "Python 3"
    },
    "accelerator": "TPU"
  },
  "cells": [
    {
      "cell_type": "markdown",
      "metadata": {
        "id": "view-in-github",
        "colab_type": "text"
      },
      "source": [
        "<a href=\"https://colab.research.google.com/github/arnavvats/lung-cancer-prediction/blob/master/Lung_Cancer_Prediction.ipynb\" target=\"_parent\"><img src=\"https://colab.research.google.com/assets/colab-badge.svg\" alt=\"Open In Colab\"/></a>"
      ]
    },
    {
      "cell_type": "markdown",
      "metadata": {
        "id": "Ude5b44TtIhS",
        "colab_type": "text"
      },
      "source": [
        "# Lung Caner Prediction Using CNN (LUNA16)"
      ]
    },
    {
      "cell_type": "markdown",
      "metadata": {
        "id": "LM8uOG9bgDar",
        "colab_type": "text"
      },
      "source": [
        "### Goal\n",
        "\n",
        "Our goal would be to predict the possibility of presence of nodules in some position , in the CT scan image of a patient's lungs .\n",
        "\n",
        "From the perspective of data science , we'd be learning some cool new tricks primarily 3D - CNN architecture and data preprocessing of medical images.\n",
        "\n",
        "The full description of the problem can be [read here](https://luna16.grand-challenge.org/Description/). Here is a quote from the page:\n",
        "\n",
        ">  We invite the research community to participate in one or two of the following challenge tracks:\n",
        "1. Nodule detection (NDET)\n",
        "Using raw CT scans, the goal is to identify locations of possible nodules, and to assign a probability for being a nodule to each location. The pipeline typically consists of two stages: candidate detection and false positive reduction.\n",
        "2. False positive reduction (FPRED)\n",
        "Given a set of candidate locations, the goal is to assign a probability for being a nodule to each candidate location. Hence, one could see this as a classification task: nodule or not a nodule. Candidate locations will be provided in world coordinates. This set detects 1,162/1,186 nodules.\n",
        "\n",
        "\n",
        "We will be interested only in Part 1 as for now."
      ]
    },
    {
      "cell_type": "markdown",
      "metadata": {
        "id": "nJVmC-a0ziGY",
        "colab_type": "text"
      },
      "source": [
        "### The data\n",
        "\n",
        "We are taking the data from the [LUNA16](https://zenodo.org/record/2604219#.XQuGWYgzZPY) competition dataset.\n",
        "There is a lot of data and since we're working on colab with max 25GB data, we'll be reading the data in parts.\n",
        "\n",
        ">  1. subset0.zip to subset9.zip: 10 zip files which contain all CT images\n",
        "\n",
        "> 2. annotations.csv: csv file that contains the annotations used as reference standard for the 'nodule detection' track\n",
        "\n",
        "> 3. sampleSubmission.csv: an example of a submission file in the correct format\n",
        "\n",
        "> 4. candidates.csv: the original set of candidates used for the LUNA16 workshop at ISBI2016. This file is kept for completeness, but should not be used, use candidates_V2.csv instead (see more info below).\n",
        "\n",
        "> 5. candidates_V2.csv: csv file that contains an extended set of candidate locations for the ‘false positive reduction’ track. \n",
        "\n",
        "> 6. evaluation script: the evaluation script that is used in the LUNA16 framework\n",
        "\n",
        "> 7. lung segmentation: a directory that contains the lung segmentation for CT images computed using automatic algorithms\n",
        "\n",
        "> 8. additional_annotations.csv: csv file that contain additional nodule annotations from our observer study. The file will be available soon\n",
        "\n",
        "We'll be downloading 2-7 right away , the zip files which contain the images are pretty big and cannot be downloaded all at once. They will be download step by step so that we dont run out of memory."
      ]
    },
    {
      "cell_type": "markdown",
      "metadata": {
        "id": "O3jckJ1IfGMD",
        "colab_type": "text"
      },
      "source": [
        "First we clear up the sample_data folder on colab, to clear up some space."
      ]
    },
    {
      "cell_type": "code",
      "metadata": {
        "id": "xdgTF2NCfNN1",
        "colab_type": "code",
        "colab": {}
      },
      "source": [
        "!rm -rf ./sample_data/"
      ],
      "execution_count": 0,
      "outputs": []
    },
    {
      "cell_type": "markdown",
      "metadata": {
        "id": "TbLMjU3Bdu-g",
        "colab_type": "text"
      },
      "source": [
        "Now lets download the files with lower size, these are the labels and information of pateients."
      ]
    },
    {
      "cell_type": "code",
      "metadata": {
        "id": "tCusZZrTd9st",
        "colab_type": "code",
        "colab": {
          "base_uri": "https://localhost:8080/",
          "height": 319
        },
        "outputId": "3be78f46-51d9-4a25-89cc-6fc4624a1f86"
      },
      "source": [
        "!curl \"https://zenodo.org/record/2604219/files/annotations.csv?download=1\" -H \"Connection: keep-alive\" -H \"Upgrade-Insecure-Requests: 1\" -H \"User-Agent: Mozilla/5.0 (Windows NT 10.0; Win64; x64) AppleWebKit/537.36 (KHTML, like Gecko) Chrome/74.0.3729.169 Safari/537.36\" -H \"Accept: text/html,application/xhtml+xml,application/xml;q=0.9,image/webp,image/apng,*/*;q=0.8,application/signed-exchange;v=b3\" -H \"Referer: https://zenodo.org/record/2604219\" -H \"Accept-Encoding: gzip, deflate, br\" -H \"Accept-Language: en-US,en;q=0.9\" -H \"Cookie: session=aefea784c123ff64_5d0b7922.IDCGjz0FfCNJlDLZPwl4x8TE5Xk; __atuvc=2^%^7C25; _pk_ref.57.a333=^%^5B^%^22^%^22^%^2C^%^22^%^22^%^2C1561043590^%^2C^%^22https^%^3A^%^2F^%^2Fluna16.grand-challenge.org^%^2F^%^22^%^5D; _pk_id.57.a333=eb8f44b38bcb4c45.1561033029.3.1561043590.1561036378.; _pk_ses.57.a333=*\" --compressed -o 'annotations.csv'\n",
        "!curl \"https://zenodo.org/record/2604219/files/candidates.csv?download=1\" -H \"Connection: keep-alive\" -H \"Upgrade-Insecure-Requests: 1\" -H \"User-Agent: Mozilla/5.0 (Windows NT 10.0; Win64; x64) AppleWebKit/537.36 (KHTML, like Gecko) Chrome/74.0.3729.169 Safari/537.36\" -H \"Accept: text/html,application/xhtml+xml,application/xml;q=0.9,image/webp,image/apng,*/*;q=0.8,application/signed-exchange;v=b3\" -H \"Referer: https://zenodo.org/record/2604219\" -H \"Accept-Encoding: gzip, deflate, br\" -H \"Accept-Language: en-US,en;q=0.9\" -H \"Cookie: session=aefea784c123ff64_5d0b7922.IDCGjz0FfCNJlDLZPwl4x8TE5Xk; __atuvc=2^%^7C25; _pk_ref.57.a333=^%^5B^%^22^%^22^%^2C^%^22^%^22^%^2C1561043590^%^2C^%^22https^%^3A^%^2F^%^2Fluna16.grand-challenge.org^%^2F^%^22^%^5D; _pk_ses.57.a333=*; _pk_id.57.a333=eb8f44b38bcb4c45.1561033029.3.1561043957.1561036378.\" --compressed -o 'candidates.csv'\n",
        "!curl \"https://zenodo.org/record/2604219/files/candidates_V2.zip?download=1\" -H \"Connection: keep-alive\" -H \"Upgrade-Insecure-Requests: 1\" -H \"User-Agent: Mozilla/5.0 (Windows NT 10.0; Win64; x64) AppleWebKit/537.36 (KHTML, like Gecko) Chrome/74.0.3729.169 Safari/537.36\" -H \"Accept: text/html,application/xhtml+xml,application/xml;q=0.9,image/webp,image/apng,*/*;q=0.8,application/signed-exchange;v=b3\" -H \"Referer: https://zenodo.org/record/2604219\" -H \"Accept-Encoding: gzip, deflate, br\" -H \"Accept-Language: en-US,en;q=0.9\" -H \"Cookie: session=aefea784c123ff64_5d0b7922.IDCGjz0FfCNJlDLZPwl4x8TE5Xk; __atuvc=2^%^7C25; _pk_ref.57.a333=^%^5B^%^22^%^22^%^2C^%^22^%^22^%^2C1561043590^%^2C^%^22https^%^3A^%^2F^%^2Fluna16.grand-challenge.org^%^2F^%^22^%^5D; _pk_ses.57.a333=*; _pk_id.57.a333=eb8f44b38bcb4c45.1561033029.3.1561044000.1561036378.\" --compressed -o 'candidates_V2.zip'\n",
        "!curl \"https://zenodo.org/record/2604219/files/evaluationScript.zip?download=1\" -H \"Connection: keep-alive\" -H \"Upgrade-Insecure-Requests: 1\" -H \"User-Agent: Mozilla/5.0 (Windows NT 10.0; Win64; x64) AppleWebKit/537.36 (KHTML, like Gecko) Chrome/74.0.3729.169 Safari/537.36\" -H \"Accept: text/html,application/xhtml+xml,application/xml;q=0.9,image/webp,image/apng,*/*;q=0.8,application/signed-exchange;v=b3\" -H \"Referer: https://zenodo.org/record/2604219\" -H \"Accept-Encoding: gzip, deflate, br\" -H \"Accept-Language: en-US,en;q=0.9\" -H \"Cookie: session=aefea784c123ff64_5d0b7922.IDCGjz0FfCNJlDLZPwl4x8TE5Xk; __atuvc=2^%^7C25; _pk_ref.57.a333=^%^5B^%^22^%^22^%^2C^%^22^%^22^%^2C1561043590^%^2C^%^22https^%^3A^%^2F^%^2Fluna16.grand-challenge.org^%^2F^%^22^%^5D; _pk_ses.57.a333=*; _pk_id.57.a333=eb8f44b38bcb4c45.1561033029.3.1561044039.1561036378.\" --compressed -o 'evaluationScript.zip'\n",
        "!curl \"https://zenodo.org/record/2604219/files/sampleSubmission.csv?download=1\" -H \"Connection: keep-alive\" -H \"Upgrade-Insecure-Requests: 1\" -H \"User-Agent: Mozilla/5.0 (Windows NT 10.0; Win64; x64) AppleWebKit/537.36 (KHTML, like Gecko) Chrome/74.0.3729.169 Safari/537.36\" -H \"Accept: text/html,application/xhtml+xml,application/xml;q=0.9,image/webp,image/apng,*/*;q=0.8,application/signed-exchange;v=b3\" -H \"Referer: https://zenodo.org/record/2604219\" -H \"Accept-Encoding: gzip, deflate, br\" -H \"Accept-Language: en-US,en;q=0.9\" -H \"Cookie: session=aefea784c123ff64_5d0b7922.IDCGjz0FfCNJlDLZPwl4x8TE5Xk; __atuvc=2^%^7C25; _pk_ref.57.a333=^%^5B^%^22^%^22^%^2C^%^22^%^22^%^2C1561043590^%^2C^%^22https^%^3A^%^2F^%^2Fluna16.grand-challenge.org^%^2F^%^22^%^5D; _pk_ses.57.a333=*; _pk_id.57.a333=eb8f44b38bcb4c45.1561033029.3.1561044078.1561036378.\" --compressed -o 'sampleSubmission.csv'\n",
        "!curl \"https://zenodo.org/record/2604219/files/seg-lungs-LUNA16.zip?download=1\" -H \"Connection: keep-alive\" -H \"Upgrade-Insecure-Requests: 1\" -H \"User-Agent: Mozilla/5.0 (Windows NT 10.0; Win64; x64) AppleWebKit/537.36 (KHTML, like Gecko) Chrome/74.0.3729.169 Safari/537.36\" -H \"Accept: text/html,application/xhtml+xml,application/xml;q=0.9,image/webp,image/apng,*/*;q=0.8,application/signed-exchange;v=b3\" -H \"Referer: https://zenodo.org/record/2604219\" -H \"Accept-Encoding: gzip, deflate, br\" -H \"Accept-Language: en-US,en;q=0.9\" -H \"Cookie: session=aefea784c123ff64_5d0b7922.IDCGjz0FfCNJlDLZPwl4x8TE5Xk; __atuvc=2^%^7C25; _pk_ref.57.a333=^%^5B^%^22^%^22^%^2C^%^22^%^22^%^2C1561043590^%^2C^%^22https^%^3A^%^2F^%^2Fluna16.grand-challenge.org^%^2F^%^22^%^5D; _pk_ses.57.a333=*; _pk_id.57.a333=eb8f44b38bcb4c45.1561033029.3.1561044122.1561036378.\" --compressed -o 'seg-lungs-LUNA16.zip'"
      ],
      "execution_count": 3,
      "outputs": [
        {
          "output_type": "stream",
          "text": [
            "  % Total    % Received % Xferd  Average Speed   Time    Time     Time  Current\n",
            "                                 Dload  Upload   Total   Spent    Left  Speed\n",
            "100 43830    0 43830    0     0  31085      0 --:--:--  0:00:01 --:--:-- 31085\n",
            "  % Total    % Received % Xferd  Average Speed   Time    Time     Time  Current\n",
            "                                 Dload  Upload   Total   Spent    Left  Speed\n",
            "100  9.8M    0  9.8M    0     0  3436k      0 --:--:--  0:00:02 --:--:-- 3435k\n",
            "  % Total    % Received % Xferd  Average Speed   Time    Time     Time  Current\n",
            "                                 Dload  Upload   Total   Spent    Left  Speed\n",
            "100 10.9M  100 10.9M    0     0  5096k      0  0:00:02  0:00:02 --:--:-- 5096k\n",
            "  % Total    % Received % Xferd  Average Speed   Time    Time     Time  Current\n",
            "                                 Dload  Upload   Total   Spent    Left  Speed\n",
            "100 20.7M  100 20.7M    0     0  8201k      0  0:00:02  0:00:02 --:--:-- 8198k\n",
            "  % Total    % Received % Xferd  Average Speed   Time    Time     Time  Current\n",
            "                                 Dload  Upload   Total   Spent    Left  Speed\n",
            "100   262    0   262    0     0    284      0 --:--:-- --:--:-- --:--:--   283\n",
            "  % Total    % Received % Xferd  Average Speed   Time    Time     Time  Current\n",
            "                                 Dload  Upload   Total   Spent    Left  Speed\n",
            "100  289M  100  289M    0     0  21.1M      0  0:00:13  0:00:13 --:--:-- 23.9M\n"
          ],
          "name": "stdout"
        }
      ]
    },
    {
      "cell_type": "code",
      "metadata": {
        "id": "x0pykwYnlGnH",
        "colab_type": "code",
        "colab": {}
      },
      "source": [
        "!unzip seg-lungs-LUNA16.zip\n",
        "!unzip evaluationScript.zip\n",
        "!unzip candidates_V2.zip"
      ],
      "execution_count": 0,
      "outputs": []
    },
    {
      "cell_type": "markdown",
      "metadata": {
        "id": "rFG0LBcuqbd7",
        "colab_type": "text"
      },
      "source": [
        "For moving on further to data preprocessing, I suggest reading their [tutorial](https://luna16.grand-challenge.org/media/LUNA16/public_html/SimpleITKTutorial.pdf) on viewing ct  scan images."
      ]
    },
    {
      "cell_type": "code",
      "metadata": {
        "id": "sRTyssxll8Gd",
        "colab_type": "code",
        "colab": {
          "base_uri": "https://localhost:8080/",
          "height": 34
        },
        "outputId": "735dea2f-0586-4d60-c050-7e55700a2d55"
      },
      "source": [
        "!pip install SimpleITK"
      ],
      "execution_count": 14,
      "outputs": [
        {
          "output_type": "stream",
          "text": [
            "Requirement already satisfied: SimpleITK in /usr/local/lib/python3.6/dist-packages (1.2.0)\n"
          ],
          "name": "stdout"
        }
      ]
    },
    {
      "cell_type": "code",
      "metadata": {
        "id": "eiHRyLKPq4I9",
        "colab_type": "code",
        "colab": {}
      },
      "source": [
        "import SimpleITK as sitk\n",
        "import numpy as np\n",
        "import pandas as pd\n",
        "import os\n",
        "from PIL import Image\n",
        "import matplotlib.pyplot as plt\n",
        "%matplotlib inline"
      ],
      "execution_count": 0,
      "outputs": []
    },
    {
      "cell_type": "markdown",
      "metadata": {
        "id": "P-BgDLmRsHtT",
        "colab_type": "text"
      },
      "source": [
        "We define now a function to: -\n",
        "\n",
        "Open the image - Store it into a numpy array- Extract the following info:\n",
        "\n",
        "Pixel Spacing, Origin This function takes as input the name of the image and returns: - \n",
        "\n",
        "The array\n",
        "corresponding to the image (numpyImage) - Origin (numpyOrigin) - PixelSpacing (numpySpacing)"
      ]
    },
    {
      "cell_type": "code",
      "metadata": {
        "id": "AYIFjbTCrFkz",
        "colab_type": "code",
        "colab": {}
      },
      "source": [
        "def load_itk_image(filename):\n",
        "  itkimage = sitk.ReadImage(filename)\n",
        "  numpyImage = sitk.GetArrayFromImage(itkimage)\n",
        "  \n",
        "  numpyOrigin = np.array(list(reversed(itkimage.GetOrigin())))\n",
        "  numpySpacing = np.array(list(reversed(itkimage.GetSpacing())))\n",
        "  \n",
        "  return numpyImage, numpyOrigin, numpySpacing"
      ],
      "execution_count": 0,
      "outputs": []
    },
    {
      "cell_type": "markdown",
      "metadata": {
        "id": "Nk4uHo-UtVvw",
        "colab_type": "text"
      },
      "source": [
        "We'll skip the read_csv function in tutorial as we have pandas to handle csv data.\n",
        "\n",
        "Since the coordinates of the candidates are given in World Coordinates, we now need to transform\n",
        "from world coordinates to voxel coordinates."
      ]
    },
    {
      "cell_type": "code",
      "metadata": {
        "id": "CVkRCVDCtUac",
        "colab_type": "code",
        "colab": {}
      },
      "source": [
        ""
      ],
      "execution_count": 0,
      "outputs": []
    }
  ]
}